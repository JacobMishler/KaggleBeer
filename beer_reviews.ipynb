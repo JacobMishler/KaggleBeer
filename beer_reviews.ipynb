{
 "cells": [
  {
   "cell_type": "code",
   "execution_count": 1,
   "metadata": {},
   "outputs": [],
   "source": [
    "##import all of the tools, rename them so its easier to call them\n",
    "import matplotlib.pyplot as plt\n",
    "import seaborn as sns\n",
    "import pandas as pd \n",
    "import numpy as np\n",
    "from math import pi"
   ]
  },
  {
   "cell_type": "code",
   "execution_count": 2,
   "metadata": {},
   "outputs": [],
   "source": [
    "# bayes weighted rating\n",
    "def bayes_weighted_rating(data, this_col, m, C):\n",
    "    v = data['counts']\n",
    "    R = data[this_col]\n",
    "    return ((v/(v+m)*R) + (m/(m+v)*C))"
   ]
  },
  {
   "cell_type": "code",
   "execution_count": 3,
   "metadata": {},
   "outputs": [],
   "source": [
    "# new review overall\n",
    "def new_review_overall(data, review_cols, corr):\n",
    "    new_review = 0\n",
    "    for col in review_cols:\n",
    "        new_review = new_review + data[col]*corr[col]\n",
    "    return new_review/sum(corr)"
   ]
  },
  {
   "cell_type": "code",
   "execution_count": 4,
   "metadata": {},
   "outputs": [],
   "source": [
    "### visual settings\n",
    "my_colors = plt.cm.get_cmap(\"Set2\", 4)\n",
    "div_cmap = sns.diverging_palette(144, 270, s=87, l=50, n=9, as_cmap = True)\n",
    "plt.style.use('seaborn-darkgrid') # this makes the grid below have a gray background through matplotlib"
   ]
  },
  {
   "cell_type": "code",
   "execution_count": 5,
   "metadata": {},
   "outputs": [],
   "source": [
    "# reading in data\n",
    "file = '../data/beer_reviews.csv' #\"..\" exits the data file we are in. After that, we open the other file\n",
    "data = pd.read_csv(file) #this is listing all the data in the file as data, through pandas, so its easier to call"
   ]
  },
  {
   "cell_type": "code",
   "execution_count": 6,
   "metadata": {
    "scrolled": true
   },
   "outputs": [
    {
     "name": "stdout",
     "output_type": "stream",
     "text": [
      "<class 'pandas.core.frame.DataFrame'>\n",
      "RangeIndex: 1586614 entries, 0 to 1586613\n",
      "Data columns (total 13 columns):\n",
      " #   Column              Non-Null Count    Dtype  \n",
      "---  ------              --------------    -----  \n",
      " 0   brewery_id          1586614 non-null  int64  \n",
      " 1   brewery_name        1586599 non-null  object \n",
      " 2   review_time         1586614 non-null  int64  \n",
      " 3   review_overall      1586614 non-null  float64\n",
      " 4   review_aroma        1586614 non-null  float64\n",
      " 5   review_appearance   1586614 non-null  float64\n",
      " 6   review_profilename  1586266 non-null  object \n",
      " 7   beer_style          1586614 non-null  object \n",
      " 8   review_palate       1586614 non-null  float64\n",
      " 9   review_taste        1586614 non-null  float64\n",
      " 10  beer_name           1586614 non-null  object \n",
      " 11  beer_abv            1518829 non-null  float64\n",
      " 12  beer_beerid         1586614 non-null  int64  \n",
      "dtypes: float64(6), int64(3), object(4)\n",
      "memory usage: 157.4+ MB\n"
     ]
    }
   ],
   "source": [
    "data.info()"
   ]
  },
  {
   "cell_type": "code",
   "execution_count": 7,
   "metadata": {
    "scrolled": false
   },
   "outputs": [
    {
     "data": {
      "text/html": [
       "<div>\n",
       "<style scoped>\n",
       "    .dataframe tbody tr th:only-of-type {\n",
       "        vertical-align: middle;\n",
       "    }\n",
       "\n",
       "    .dataframe tbody tr th {\n",
       "        vertical-align: top;\n",
       "    }\n",
       "\n",
       "    .dataframe thead th {\n",
       "        text-align: right;\n",
       "    }\n",
       "</style>\n",
       "<table border=\"1\" class=\"dataframe\">\n",
       "  <thead>\n",
       "    <tr style=\"text-align: right;\">\n",
       "      <th></th>\n",
       "      <th>count</th>\n",
       "      <th>mean</th>\n",
       "      <th>std</th>\n",
       "      <th>min</th>\n",
       "      <th>25%</th>\n",
       "      <th>50%</th>\n",
       "      <th>75%</th>\n",
       "      <th>max</th>\n",
       "    </tr>\n",
       "  </thead>\n",
       "  <tbody>\n",
       "    <tr>\n",
       "      <th>brewery_id</th>\n",
       "      <td>1586614.0</td>\n",
       "      <td>3.130099e+03</td>\n",
       "      <td>5.578104e+03</td>\n",
       "      <td>1.000000e+00</td>\n",
       "      <td>1.430000e+02</td>\n",
       "      <td>4.290000e+02</td>\n",
       "      <td>2.372000e+03</td>\n",
       "      <td>2.800300e+04</td>\n",
       "    </tr>\n",
       "    <tr>\n",
       "      <th>review_time</th>\n",
       "      <td>1586614.0</td>\n",
       "      <td>1.224089e+09</td>\n",
       "      <td>7.654427e+07</td>\n",
       "      <td>8.406720e+08</td>\n",
       "      <td>1.173224e+09</td>\n",
       "      <td>1.239203e+09</td>\n",
       "      <td>1.288568e+09</td>\n",
       "      <td>1.326285e+09</td>\n",
       "    </tr>\n",
       "    <tr>\n",
       "      <th>review_overall</th>\n",
       "      <td>1586614.0</td>\n",
       "      <td>3.815581e+00</td>\n",
       "      <td>7.206219e-01</td>\n",
       "      <td>0.000000e+00</td>\n",
       "      <td>3.500000e+00</td>\n",
       "      <td>4.000000e+00</td>\n",
       "      <td>4.500000e+00</td>\n",
       "      <td>5.000000e+00</td>\n",
       "    </tr>\n",
       "    <tr>\n",
       "      <th>review_aroma</th>\n",
       "      <td>1586614.0</td>\n",
       "      <td>3.735636e+00</td>\n",
       "      <td>6.976167e-01</td>\n",
       "      <td>1.000000e+00</td>\n",
       "      <td>3.500000e+00</td>\n",
       "      <td>4.000000e+00</td>\n",
       "      <td>4.000000e+00</td>\n",
       "      <td>5.000000e+00</td>\n",
       "    </tr>\n",
       "    <tr>\n",
       "      <th>review_appearance</th>\n",
       "      <td>1586614.0</td>\n",
       "      <td>3.841642e+00</td>\n",
       "      <td>6.160928e-01</td>\n",
       "      <td>0.000000e+00</td>\n",
       "      <td>3.500000e+00</td>\n",
       "      <td>4.000000e+00</td>\n",
       "      <td>4.000000e+00</td>\n",
       "      <td>5.000000e+00</td>\n",
       "    </tr>\n",
       "    <tr>\n",
       "      <th>review_palate</th>\n",
       "      <td>1586614.0</td>\n",
       "      <td>3.743701e+00</td>\n",
       "      <td>6.822184e-01</td>\n",
       "      <td>1.000000e+00</td>\n",
       "      <td>3.500000e+00</td>\n",
       "      <td>4.000000e+00</td>\n",
       "      <td>4.000000e+00</td>\n",
       "      <td>5.000000e+00</td>\n",
       "    </tr>\n",
       "    <tr>\n",
       "      <th>review_taste</th>\n",
       "      <td>1586614.0</td>\n",
       "      <td>3.792860e+00</td>\n",
       "      <td>7.319696e-01</td>\n",
       "      <td>1.000000e+00</td>\n",
       "      <td>3.500000e+00</td>\n",
       "      <td>4.000000e+00</td>\n",
       "      <td>4.500000e+00</td>\n",
       "      <td>5.000000e+00</td>\n",
       "    </tr>\n",
       "    <tr>\n",
       "      <th>beer_abv</th>\n",
       "      <td>1518829.0</td>\n",
       "      <td>7.042387e+00</td>\n",
       "      <td>2.322526e+00</td>\n",
       "      <td>1.000000e-02</td>\n",
       "      <td>5.200000e+00</td>\n",
       "      <td>6.500000e+00</td>\n",
       "      <td>8.500000e+00</td>\n",
       "      <td>5.770000e+01</td>\n",
       "    </tr>\n",
       "    <tr>\n",
       "      <th>beer_beerid</th>\n",
       "      <td>1586614.0</td>\n",
       "      <td>2.171279e+04</td>\n",
       "      <td>2.181834e+04</td>\n",
       "      <td>3.000000e+00</td>\n",
       "      <td>1.717000e+03</td>\n",
       "      <td>1.390600e+04</td>\n",
       "      <td>3.944100e+04</td>\n",
       "      <td>7.731700e+04</td>\n",
       "    </tr>\n",
       "  </tbody>\n",
       "</table>\n",
       "</div>"
      ],
      "text/plain": [
       "                       count          mean           std           min  \\\n",
       "brewery_id         1586614.0  3.130099e+03  5.578104e+03  1.000000e+00   \n",
       "review_time        1586614.0  1.224089e+09  7.654427e+07  8.406720e+08   \n",
       "review_overall     1586614.0  3.815581e+00  7.206219e-01  0.000000e+00   \n",
       "review_aroma       1586614.0  3.735636e+00  6.976167e-01  1.000000e+00   \n",
       "review_appearance  1586614.0  3.841642e+00  6.160928e-01  0.000000e+00   \n",
       "review_palate      1586614.0  3.743701e+00  6.822184e-01  1.000000e+00   \n",
       "review_taste       1586614.0  3.792860e+00  7.319696e-01  1.000000e+00   \n",
       "beer_abv           1518829.0  7.042387e+00  2.322526e+00  1.000000e-02   \n",
       "beer_beerid        1586614.0  2.171279e+04  2.181834e+04  3.000000e+00   \n",
       "\n",
       "                            25%           50%           75%           max  \n",
       "brewery_id         1.430000e+02  4.290000e+02  2.372000e+03  2.800300e+04  \n",
       "review_time        1.173224e+09  1.239203e+09  1.288568e+09  1.326285e+09  \n",
       "review_overall     3.500000e+00  4.000000e+00  4.500000e+00  5.000000e+00  \n",
       "review_aroma       3.500000e+00  4.000000e+00  4.000000e+00  5.000000e+00  \n",
       "review_appearance  3.500000e+00  4.000000e+00  4.000000e+00  5.000000e+00  \n",
       "review_palate      3.500000e+00  4.000000e+00  4.000000e+00  5.000000e+00  \n",
       "review_taste       3.500000e+00  4.000000e+00  4.500000e+00  5.000000e+00  \n",
       "beer_abv           5.200000e+00  6.500000e+00  8.500000e+00  5.770000e+01  \n",
       "beer_beerid        1.717000e+03  1.390600e+04  3.944100e+04  7.731700e+04  "
      ]
     },
     "execution_count": 7,
     "metadata": {},
     "output_type": "execute_result"
    }
   ],
   "source": [
    "data.describe().transpose()"
   ]
  },
  {
   "cell_type": "code",
   "execution_count": 8,
   "metadata": {},
   "outputs": [
    {
     "data": {
      "text/plain": [
       "(array([7.00000e+00, 0.00000e+00, 1.09540e+04, 1.29750e+04, 3.82250e+04,\n",
       "        5.85230e+04, 1.65644e+05, 3.01817e+05, 5.82764e+05, 4.15705e+05]),\n",
       " array([0. , 0.5, 1. , 1.5, 2. , 2.5, 3. , 3.5, 4. , 4.5, 5. ]),\n",
       " <a list of 10 Patch objects>)"
      ]
     },
     "execution_count": 8,
     "metadata": {},
     "output_type": "execute_result"
    },
    {
     "data": {
      "image/png": "[encoded data removed]",
      "text/plain": [
       "<Figure size 432x288 with 1 Axes>"
      ]
     },
     "metadata": {},
     "output_type": "display_data"
    }
   ],
   "source": [
    "# data.beer_styles is equivalent to data['beer_styles']\n",
    "\n",
    "my_bins = len(data.review_overall.unique()) # since we're binning abv in reviews\n",
    "\n",
    "sub_data = data[['review_overall', 'beer_abv']]\n",
    "plt.hist(data.review_overall, bins=my_bins)"
   ]
  },
  {
   "cell_type": "code",
   "execution_count": 9,
   "metadata": {},
   "outputs": [
    {
     "name": "stdout",
     "output_type": "stream",
     "text": [
      "number of unique beer styles:  104\n"
     ]
    },
    {
     "data": {
      "text/html": [
       "<div>\n",
       "<style scoped>\n",
       "    .dataframe tbody tr th:only-of-type {\n",
       "        vertical-align: middle;\n",
       "    }\n",
       "\n",
       "    .dataframe tbody tr th {\n",
       "        vertical-align: top;\n",
       "    }\n",
       "\n",
       "    .dataframe thead th {\n",
       "        text-align: right;\n",
       "    }\n",
       "</style>\n",
       "<table border=\"1\" class=\"dataframe\">\n",
       "  <thead>\n",
       "    <tr style=\"text-align: right;\">\n",
       "      <th></th>\n",
       "      <th>beer_style</th>\n",
       "      <th>beer_abv</th>\n",
       "    </tr>\n",
       "  </thead>\n",
       "  <tbody>\n",
       "    <tr>\n",
       "      <th>0</th>\n",
       "      <td>Hefeweizen</td>\n",
       "      <td>5.0</td>\n",
       "    </tr>\n",
       "    <tr>\n",
       "      <th>1</th>\n",
       "      <td>English Strong Ale</td>\n",
       "      <td>6.2</td>\n",
       "    </tr>\n",
       "    <tr>\n",
       "      <th>2</th>\n",
       "      <td>Foreign / Export Stout</td>\n",
       "      <td>6.5</td>\n",
       "    </tr>\n",
       "    <tr>\n",
       "      <th>3</th>\n",
       "      <td>German Pilsener</td>\n",
       "      <td>5.0</td>\n",
       "    </tr>\n",
       "    <tr>\n",
       "      <th>4</th>\n",
       "      <td>American Double / Imperial IPA</td>\n",
       "      <td>7.7</td>\n",
       "    </tr>\n",
       "    <tr>\n",
       "      <th>...</th>\n",
       "      <td>...</td>\n",
       "      <td>...</td>\n",
       "    </tr>\n",
       "    <tr>\n",
       "      <th>295478</th>\n",
       "      <td>Bière de Champagne / Bière Brut</td>\n",
       "      <td>10.3</td>\n",
       "    </tr>\n",
       "    <tr>\n",
       "      <th>295479</th>\n",
       "      <td>Bière de Champagne / Bière Brut</td>\n",
       "      <td>10.3</td>\n",
       "    </tr>\n",
       "    <tr>\n",
       "      <th>295480</th>\n",
       "      <td>Bière de Champagne / Bière Brut</td>\n",
       "      <td>10.3</td>\n",
       "    </tr>\n",
       "    <tr>\n",
       "      <th>295481</th>\n",
       "      <td>Bière de Champagne / Bière Brut</td>\n",
       "      <td>10.3</td>\n",
       "    </tr>\n",
       "    <tr>\n",
       "      <th>295482</th>\n",
       "      <td>Bière de Champagne / Bière Brut</td>\n",
       "      <td>10.3</td>\n",
       "    </tr>\n",
       "  </tbody>\n",
       "</table>\n",
       "<p>1040 rows × 2 columns</p>\n",
       "</div>"
      ],
      "text/plain": [
       "                             beer_style  beer_abv\n",
       "0                            Hefeweizen       5.0\n",
       "1                    English Strong Ale       6.2\n",
       "2                Foreign / Export Stout       6.5\n",
       "3                       German Pilsener       5.0\n",
       "4        American Double / Imperial IPA       7.7\n",
       "...                                 ...       ...\n",
       "295478  Bière de Champagne / Bière Brut      10.3\n",
       "295479  Bière de Champagne / Bière Brut      10.3\n",
       "295480  Bière de Champagne / Bière Brut      10.3\n",
       "295481  Bière de Champagne / Bière Brut      10.3\n",
       "295482  Bière de Champagne / Bière Brut      10.3\n",
       "\n",
       "[1040 rows x 2 columns]"
      ]
     },
     "execution_count": 9,
     "metadata": {},
     "output_type": "execute_result"
    }
   ],
   "source": [
    "print('number of unique beer styles: ', len(data.beer_style.unique()))\n",
    "data.groupby('beer_style', as_index = True)[['beer_style','beer_abv']].head(10)"
   ]
  },
  {
   "cell_type": "code",
   "execution_count": 10,
   "metadata": {
    "scrolled": true
   },
   "outputs": [
    {
     "data": {
      "text/html": [
       "<div>\n",
       "<style scoped>\n",
       "    .dataframe tbody tr th:only-of-type {\n",
       "        vertical-align: middle;\n",
       "    }\n",
       "\n",
       "    .dataframe tbody tr th {\n",
       "        vertical-align: top;\n",
       "    }\n",
       "\n",
       "    .dataframe thead th {\n",
       "        text-align: right;\n",
       "    }\n",
       "</style>\n",
       "<table border=\"1\" class=\"dataframe\">\n",
       "  <thead>\n",
       "    <tr style=\"text-align: right;\">\n",
       "      <th></th>\n",
       "      <th>count</th>\n",
       "      <th>mean</th>\n",
       "      <th>std</th>\n",
       "      <th>min</th>\n",
       "      <th>25%</th>\n",
       "      <th>50%</th>\n",
       "      <th>75%</th>\n",
       "      <th>max</th>\n",
       "    </tr>\n",
       "  </thead>\n",
       "  <tbody>\n",
       "    <tr>\n",
       "      <th>brewery_id</th>\n",
       "      <td>1586614.0</td>\n",
       "      <td>3.130099e+03</td>\n",
       "      <td>5.578104e+03</td>\n",
       "      <td>1.000000e+00</td>\n",
       "      <td>1.430000e+02</td>\n",
       "      <td>4.290000e+02</td>\n",
       "      <td>2.372000e+03</td>\n",
       "      <td>2.800300e+04</td>\n",
       "    </tr>\n",
       "    <tr>\n",
       "      <th>review_time</th>\n",
       "      <td>1586614.0</td>\n",
       "      <td>1.224089e+09</td>\n",
       "      <td>7.654427e+07</td>\n",
       "      <td>8.406720e+08</td>\n",
       "      <td>1.173224e+09</td>\n",
       "      <td>1.239203e+09</td>\n",
       "      <td>1.288568e+09</td>\n",
       "      <td>1.326285e+09</td>\n",
       "    </tr>\n",
       "    <tr>\n",
       "      <th>review_overall</th>\n",
       "      <td>1586614.0</td>\n",
       "      <td>3.815581e+00</td>\n",
       "      <td>7.206219e-01</td>\n",
       "      <td>0.000000e+00</td>\n",
       "      <td>3.500000e+00</td>\n",
       "      <td>4.000000e+00</td>\n",
       "      <td>4.500000e+00</td>\n",
       "      <td>5.000000e+00</td>\n",
       "    </tr>\n",
       "    <tr>\n",
       "      <th>review_aroma</th>\n",
       "      <td>1586614.0</td>\n",
       "      <td>3.735636e+00</td>\n",
       "      <td>6.976167e-01</td>\n",
       "      <td>1.000000e+00</td>\n",
       "      <td>3.500000e+00</td>\n",
       "      <td>4.000000e+00</td>\n",
       "      <td>4.000000e+00</td>\n",
       "      <td>5.000000e+00</td>\n",
       "    </tr>\n",
       "    <tr>\n",
       "      <th>review_appearance</th>\n",
       "      <td>1586614.0</td>\n",
       "      <td>3.841642e+00</td>\n",
       "      <td>6.160928e-01</td>\n",
       "      <td>0.000000e+00</td>\n",
       "      <td>3.500000e+00</td>\n",
       "      <td>4.000000e+00</td>\n",
       "      <td>4.000000e+00</td>\n",
       "      <td>5.000000e+00</td>\n",
       "    </tr>\n",
       "    <tr>\n",
       "      <th>review_palate</th>\n",
       "      <td>1586614.0</td>\n",
       "      <td>3.743701e+00</td>\n",
       "      <td>6.822184e-01</td>\n",
       "      <td>1.000000e+00</td>\n",
       "      <td>3.500000e+00</td>\n",
       "      <td>4.000000e+00</td>\n",
       "      <td>4.000000e+00</td>\n",
       "      <td>5.000000e+00</td>\n",
       "    </tr>\n",
       "    <tr>\n",
       "      <th>review_taste</th>\n",
       "      <td>1586614.0</td>\n",
       "      <td>3.792860e+00</td>\n",
       "      <td>7.319696e-01</td>\n",
       "      <td>1.000000e+00</td>\n",
       "      <td>3.500000e+00</td>\n",
       "      <td>4.000000e+00</td>\n",
       "      <td>4.500000e+00</td>\n",
       "      <td>5.000000e+00</td>\n",
       "    </tr>\n",
       "    <tr>\n",
       "      <th>beer_abv</th>\n",
       "      <td>1518829.0</td>\n",
       "      <td>7.042387e+00</td>\n",
       "      <td>2.322526e+00</td>\n",
       "      <td>1.000000e-02</td>\n",
       "      <td>5.200000e+00</td>\n",
       "      <td>6.500000e+00</td>\n",
       "      <td>8.500000e+00</td>\n",
       "      <td>5.770000e+01</td>\n",
       "    </tr>\n",
       "    <tr>\n",
       "      <th>beer_beerid</th>\n",
       "      <td>1586614.0</td>\n",
       "      <td>2.171279e+04</td>\n",
       "      <td>2.181834e+04</td>\n",
       "      <td>3.000000e+00</td>\n",
       "      <td>1.717000e+03</td>\n",
       "      <td>1.390600e+04</td>\n",
       "      <td>3.944100e+04</td>\n",
       "      <td>7.731700e+04</td>\n",
       "    </tr>\n",
       "  </tbody>\n",
       "</table>\n",
       "</div>"
      ],
      "text/plain": [
       "                       count          mean           std           min  \\\n",
       "brewery_id         1586614.0  3.130099e+03  5.578104e+03  1.000000e+00   \n",
       "review_time        1586614.0  1.224089e+09  7.654427e+07  8.406720e+08   \n",
       "review_overall     1586614.0  3.815581e+00  7.206219e-01  0.000000e+00   \n",
       "review_aroma       1586614.0  3.735636e+00  6.976167e-01  1.000000e+00   \n",
       "review_appearance  1586614.0  3.841642e+00  6.160928e-01  0.000000e+00   \n",
       "review_palate      1586614.0  3.743701e+00  6.822184e-01  1.000000e+00   \n",
       "review_taste       1586614.0  3.792860e+00  7.319696e-01  1.000000e+00   \n",
       "beer_abv           1518829.0  7.042387e+00  2.322526e+00  1.000000e-02   \n",
       "beer_beerid        1586614.0  2.171279e+04  2.181834e+04  3.000000e+00   \n",
       "\n",
       "                            25%           50%           75%           max  \n",
       "brewery_id         1.430000e+02  4.290000e+02  2.372000e+03  2.800300e+04  \n",
       "review_time        1.173224e+09  1.239203e+09  1.288568e+09  1.326285e+09  \n",
       "review_overall     3.500000e+00  4.000000e+00  4.500000e+00  5.000000e+00  \n",
       "review_aroma       3.500000e+00  4.000000e+00  4.000000e+00  5.000000e+00  \n",
       "review_appearance  3.500000e+00  4.000000e+00  4.000000e+00  5.000000e+00  \n",
       "review_palate      3.500000e+00  4.000000e+00  4.000000e+00  5.000000e+00  \n",
       "review_taste       3.500000e+00  4.000000e+00  4.500000e+00  5.000000e+00  \n",
       "beer_abv           5.200000e+00  6.500000e+00  8.500000e+00  5.770000e+01  \n",
       "beer_beerid        1.717000e+03  1.390600e+04  3.944100e+04  7.731700e+04  "
      ]
     },
     "execution_count": 10,
     "metadata": {},
     "output_type": "execute_result"
    }
   ],
   "source": [
    "data.describe().transpose() #describes data and flips the axis"
   ]
  },
  {
   "cell_type": "code",
   "execution_count": 11,
   "metadata": {
    "scrolled": true
   },
   "outputs": [
    {
     "data": {
      "text/plain": [
       "66055"
      ]
     },
     "execution_count": 11,
     "metadata": {},
     "output_type": "execute_result"
    }
   ],
   "source": [
    "len(data.beer_beerid.unique()) # how many distinct beers there are\n"
   ]
  },
  {
   "cell_type": "code",
   "execution_count": 12,
   "metadata": {},
   "outputs": [
    {
     "data": {
      "text/plain": [
       "5840"
      ]
     },
     "execution_count": 12,
     "metadata": {},
     "output_type": "execute_result"
    }
   ],
   "source": [
    "len(data.brewery_id.unique()) # how many distinct brewery ids there are"
   ]
  },
  {
   "cell_type": "code",
   "execution_count": 13,
   "metadata": {},
   "outputs": [
    {
     "data": {
      "text/plain": [
       "33388"
      ]
     },
     "execution_count": 13,
     "metadata": {},
     "output_type": "execute_result"
    }
   ],
   "source": [
    "len(data.review_profilename.unique()) # how many distinct reviewers there are"
   ]
  },
  {
   "cell_type": "code",
   "execution_count": 14,
   "metadata": {},
   "outputs": [
    {
     "data": {
      "text/plain": [
       "3.0"
      ]
     },
     "execution_count": 14,
     "metadata": {},
     "output_type": "execute_result"
    }
   ],
   "source": [
    "# median number of reviews a user gives\n",
    "data.groupby('review_profilename', as_index = True)['beer_beerid']\\\n",
    "    .count()\\\n",
    "    .median() # first line finds all reviews given by each user, second line counts them, third line gives the median"
   ]
  },
  {
   "cell_type": "code",
   "execution_count": 15,
   "metadata": {},
   "outputs": [
    {
     "data": {
      "text/plain": [
       "47.511486506724175"
      ]
     },
     "execution_count": 15,
     "metadata": {},
     "output_type": "execute_result"
    }
   ],
   "source": [
    "# mean number of reviews a user gives\n",
    "data.groupby('review_profilename', as_index = True)['beer_beerid']\\\n",
    "    .count()\\\n",
    "    .mean()"
   ]
  },
  {
   "cell_type": "code",
   "execution_count": 16,
   "metadata": {},
   "outputs": [
    {
     "data": {
      "text/plain": [
       "2.0"
      ]
     },
     "execution_count": 16,
     "metadata": {},
     "output_type": "execute_result"
    }
   ],
   "source": [
    "# median number of reviews a beer gets\n",
    "data.groupby('beer_beerid', as_index = True)['review_overall']\\\n",
    "    .count()\\\n",
    "    .median()"
   ]
  },
  {
   "cell_type": "code",
   "execution_count": 17,
   "metadata": {},
   "outputs": [
    {
     "data": {
      "text/plain": [
       "24.019589735826205"
      ]
     },
     "execution_count": 17,
     "metadata": {},
     "output_type": "execute_result"
    }
   ],
   "source": [
    "#mean number of reviews a beer gets\n",
    "data.groupby('beer_beerid', as_index = True)['review_overall']\\\n",
    "    .count()\\\n",
    "    .mean()"
   ]
  },
  {
   "cell_type": "code",
   "execution_count": 18,
   "metadata": {},
   "outputs": [],
   "source": [
    "reviews = data[data['beer_beerid'].map(data['beer_beerid'].value_counts()) > 25]"
   ]
  },
  {
   "cell_type": "code",
   "execution_count": 19,
   "metadata": {},
   "outputs": [],
   "source": [
    "reviews = reviews[reviews['review_profilename'].map(data['review_profilename'].value_counts()) > 48]"
   ]
  },
  {
   "cell_type": "code",
   "execution_count": 20,
   "metadata": {},
   "outputs": [],
   "source": [
    "reviews['review_time'] = pd.to_datetime(reviews['review_time'], unit = 's')"
   ]
  },
  {
   "cell_type": "raw",
   "metadata": {},
   "source": []
  },
  {
   "cell_type": "code",
   "execution_count": 21,
   "metadata": {},
   "outputs": [
    {
     "data": {
      "text/plain": [
       "Text(0.5, 1.0, \"Numeric Feature's Correlation\")"
      ]
     },
     "execution_count": 21,
     "metadata": {},
     "output_type": "execute_result"
    },
    {
     "data": {
      "image/png": "[encoded data removed]",
      "text/plain": [
       "<Figure size 432x288 with 2 Axes>"
      ]
     },
     "metadata": {},
     "output_type": "display_data"
    }
   ],
   "source": [
    "numeric_cols = reviews.select_dtypes(include=['int64', 'float64']).columns \n",
    "\n",
    "sns.heatmap(reviews[numeric_cols].corr(), vmin = 0, vmax = 1, center = 0.5, cmap = 'Reds')\n",
    "plt.title('Numeric Feature\\'s Correlation')\n",
    "# this chart shows that the highest"
   ]
  },
  {
   "cell_type": "code",
   "execution_count": 22,
   "metadata": {},
   "outputs": [
    {
     "data": {
      "text/plain": [
       "brewery_id                0\n",
       "brewery_name              0\n",
       "review_time               0\n",
       "review_overall            0\n",
       "review_aroma              0\n",
       "review_appearance         0\n",
       "review_profilename        0\n",
       "beer_style                0\n",
       "review_palate             0\n",
       "review_taste              0\n",
       "beer_name                 0\n",
       "beer_abv              16827\n",
       "beer_beerid               0\n",
       "dtype: int64"
      ]
     },
     "execution_count": 22,
     "metadata": {},
     "output_type": "execute_result"
    }
   ],
   "source": [
    "reviews.isnull().sum()"
   ]
  },
  {
   "cell_type": "code",
   "execution_count": 23,
   "metadata": {},
   "outputs": [],
   "source": [
    "reviews.beer_abv = reviews.groupby('beer_style')['beer_abv'].apply(lambda x: x.fillna(x.mean()))"
   ]
  },
  {
   "cell_type": "code",
   "execution_count": 24,
   "metadata": {},
   "outputs": [],
   "source": [
    "# view the data as a time series\n",
    "reviews = reviews.sort_values('review_time', ascending=False)"
   ]
  },
  {
   "cell_type": "code",
   "execution_count": 25,
   "metadata": {},
   "outputs": [],
   "source": [
    "# drop the duplicates\n",
    "reviews = reviews.drop_duplicates(subset= ['review_profilename', 'beer_name', 'brewery_name'], keep='first')"
   ]
  },
  {
   "cell_type": "code",
   "execution_count": 26,
   "metadata": {},
   "outputs": [
    {
     "data": {
      "text/html": [
       "<div>\n",
       "<style scoped>\n",
       "    .dataframe tbody tr th:only-of-type {\n",
       "        vertical-align: middle;\n",
       "    }\n",
       "\n",
       "    .dataframe tbody tr th {\n",
       "        vertical-align: top;\n",
       "    }\n",
       "\n",
       "    .dataframe thead th {\n",
       "        text-align: right;\n",
       "    }\n",
       "</style>\n",
       "<table border=\"1\" class=\"dataframe\">\n",
       "  <thead>\n",
       "    <tr style=\"text-align: right;\">\n",
       "      <th></th>\n",
       "      <th>count</th>\n",
       "      <th>mean</th>\n",
       "      <th>std</th>\n",
       "      <th>min</th>\n",
       "      <th>25%</th>\n",
       "      <th>50%</th>\n",
       "      <th>75%</th>\n",
       "      <th>max</th>\n",
       "    </tr>\n",
       "  </thead>\n",
       "  <tbody>\n",
       "    <tr>\n",
       "      <th>brewery_id</th>\n",
       "      <td>1175246.0</td>\n",
       "      <td>2588.336452</td>\n",
       "      <td>5009.348450</td>\n",
       "      <td>1.0</td>\n",
       "      <td>140.0</td>\n",
       "      <td>363.0</td>\n",
       "      <td>1534.0</td>\n",
       "      <td>27681.0</td>\n",
       "    </tr>\n",
       "    <tr>\n",
       "      <th>review_overall</th>\n",
       "      <td>1175246.0</td>\n",
       "      <td>3.829630</td>\n",
       "      <td>0.694019</td>\n",
       "      <td>1.0</td>\n",
       "      <td>3.5</td>\n",
       "      <td>4.0</td>\n",
       "      <td>4.5</td>\n",
       "      <td>5.0</td>\n",
       "    </tr>\n",
       "    <tr>\n",
       "      <th>review_aroma</th>\n",
       "      <td>1175246.0</td>\n",
       "      <td>3.760654</td>\n",
       "      <td>0.672908</td>\n",
       "      <td>1.0</td>\n",
       "      <td>3.5</td>\n",
       "      <td>4.0</td>\n",
       "      <td>4.0</td>\n",
       "      <td>5.0</td>\n",
       "    </tr>\n",
       "    <tr>\n",
       "      <th>review_appearance</th>\n",
       "      <td>1175246.0</td>\n",
       "      <td>3.860878</td>\n",
       "      <td>0.598254</td>\n",
       "      <td>1.0</td>\n",
       "      <td>3.5</td>\n",
       "      <td>4.0</td>\n",
       "      <td>4.0</td>\n",
       "      <td>5.0</td>\n",
       "    </tr>\n",
       "    <tr>\n",
       "      <th>review_palate</th>\n",
       "      <td>1175246.0</td>\n",
       "      <td>3.766262</td>\n",
       "      <td>0.658550</td>\n",
       "      <td>1.0</td>\n",
       "      <td>3.5</td>\n",
       "      <td>4.0</td>\n",
       "      <td>4.0</td>\n",
       "      <td>5.0</td>\n",
       "    </tr>\n",
       "    <tr>\n",
       "      <th>review_taste</th>\n",
       "      <td>1175246.0</td>\n",
       "      <td>3.811445</td>\n",
       "      <td>0.701609</td>\n",
       "      <td>1.0</td>\n",
       "      <td>3.5</td>\n",
       "      <td>4.0</td>\n",
       "      <td>4.5</td>\n",
       "      <td>5.0</td>\n",
       "    </tr>\n",
       "    <tr>\n",
       "      <th>beer_abv</th>\n",
       "      <td>1175246.0</td>\n",
       "      <td>7.125685</td>\n",
       "      <td>2.316692</td>\n",
       "      <td>0.3</td>\n",
       "      <td>5.3</td>\n",
       "      <td>6.5</td>\n",
       "      <td>8.5</td>\n",
       "      <td>41.0</td>\n",
       "    </tr>\n",
       "    <tr>\n",
       "      <th>beer_beerid</th>\n",
       "      <td>1175246.0</td>\n",
       "      <td>19563.531162</td>\n",
       "      <td>20796.208240</td>\n",
       "      <td>5.0</td>\n",
       "      <td>1490.0</td>\n",
       "      <td>9086.0</td>\n",
       "      <td>36468.0</td>\n",
       "      <td>76816.0</td>\n",
       "    </tr>\n",
       "  </tbody>\n",
       "</table>\n",
       "</div>"
      ],
      "text/plain": [
       "                       count          mean           std  min     25%     50%  \\\n",
       "brewery_id         1175246.0   2588.336452   5009.348450  1.0   140.0   363.0   \n",
       "review_overall     1175246.0      3.829630      0.694019  1.0     3.5     4.0   \n",
       "review_aroma       1175246.0      3.760654      0.672908  1.0     3.5     4.0   \n",
       "review_appearance  1175246.0      3.860878      0.598254  1.0     3.5     4.0   \n",
       "review_palate      1175246.0      3.766262      0.658550  1.0     3.5     4.0   \n",
       "review_taste       1175246.0      3.811445      0.701609  1.0     3.5     4.0   \n",
       "beer_abv           1175246.0      7.125685      2.316692  0.3     5.3     6.5   \n",
       "beer_beerid        1175246.0  19563.531162  20796.208240  5.0  1490.0  9086.0   \n",
       "\n",
       "                       75%      max  \n",
       "brewery_id          1534.0  27681.0  \n",
       "review_overall         4.5      5.0  \n",
       "review_aroma           4.0      5.0  \n",
       "review_appearance      4.0      5.0  \n",
       "review_palate          4.0      5.0  \n",
       "review_taste           4.5      5.0  \n",
       "beer_abv               8.5     41.0  \n",
       "beer_beerid        36468.0  76816.0  "
      ]
     },
     "execution_count": 26,
     "metadata": {},
     "output_type": "execute_result"
    }
   ],
   "source": [
    "reviews.describe().transpose()"
   ]
  },
  {
   "cell_type": "code",
   "execution_count": 27,
   "metadata": {},
   "outputs": [
    {
     "name": "stdout",
     "output_type": "stream",
     "text": [
      "Beer with highest ABV:\n",
      "                             beer_name  beer_abv\n",
      "12919    Schorschbräu Schorschbock 57%     57.70\n",
      "12939    Schorschbräu Schorschbock 43%     43.00\n",
      "746310              Sink The Bismarck!     41.00\n",
      "12934    Schorschbräu Schorschbock 40%     39.44\n",
      "996149      Black Damnation VI - Messy     39.00\n",
      "748332        Tactical Nuclear Penguin     32.00\n",
      "12918    Schorschbräu Schorschbock 31%     30.86\n",
      "1042320                           Dave     29.00\n",
      "746420                      Ghost Deer     28.00\n",
      "293578            Samuel Adams Utopias     27.00\n"
     ]
    }
   ],
   "source": [
    "### Finding beers with the highest ABV\n",
    "\n",
    "beer_highest_abv = data[['beer_name', 'beer_abv']]\\\n",
    "                    .drop_duplicates('beer_name')\\\n",
    "                    .sort_values('beer_abv', ascending = False)\n",
    "# the first line: this is creating a new data set of beers with their names and abv\n",
    "# the second line: this gets rid of all the duplicate beers\n",
    "# the third line: this is sorting the beers by abv, since ascending is the default, saying \"ascending = False\" makes it descending instead\n",
    "print('Beer with highest ABV:')\n",
    "print(beer_highest_abv.head(10))"
   ]
  },
  {
   "cell_type": "code",
   "execution_count": 28,
   "metadata": {},
   "outputs": [
    {
     "name": "stdout",
     "output_type": "stream",
     "text": [
      "Highest ABV from each of the strongest breweries\n",
      "                                              brewery_name  beer_abv\n",
      "12919                                         Schorschbräu     57.70\n",
      "746385                                             BrewDog     41.00\n",
      "996153                                 De Struise Brouwers     39.00\n",
      "1042328  Hair of the Dog Brewing Company / Brewery and ...     29.00\n",
      "293821                  Boston Beer Company (Samuel Adams)     27.00\n",
      "569500                           LagerHaus Grill & Brewery     22.00\n",
      "1386396                             DuClaw Brewing Company     21.92\n",
      "1199891                            Short's Brewing Company     20.00\n",
      "1375146                         Grand Lake Brewing Company     20.00\n",
      "667534                             Sonoran Brewing Company     19.50\n"
     ]
    }
   ],
   "source": [
    "### Finding the highest ABV from each of the strongest breweries\n",
    "brewery_highest_abv = data.sort_values('beer_abv', ascending = False)[['brewery_name', 'beer_abv']]\\\n",
    "        .drop_duplicates('brewery_name')\n",
    "print('Highest ABV from each of the strongest breweries')\n",
    "print(brewery_highest_abv.head(10))"
   ]
  },
  {
   "cell_type": "code",
   "execution_count": 29,
   "metadata": {},
   "outputs": [],
   "source": [
    "### Aggregate data with counts for unique beer/brewery entries, mean ABV, and median ABV\n",
    "brewery_abv = data[data.beer_abv.notna()][['beer_name', 'brewery_name', 'beer_abv']]\\\n",
    "            .drop_duplicates(['beer_name', 'brewery_name'])\\\n",
    "            .groupby('brewery_name', as_index = False)[['beer_abv', 'beer_name']]\\\n",
    "            .agg({'beer_name': 'count', 'beer_abv': ['median', 'mean']})\n",
    "brewery_abv.columns = brewery_abv.columns.to_series().str.join('_')\n",
    "brewery_abv.rename(columns = {'brewery_name_' : 'brewery_name'}, inplace = True)"
   ]
  },
  {
   "cell_type": "code",
   "execution_count": 30,
   "metadata": {},
   "outputs": [
    {
     "data": {
      "text/html": [
       "<div>\n",
       "<style scoped>\n",
       "    .dataframe tbody tr th:only-of-type {\n",
       "        vertical-align: middle;\n",
       "    }\n",
       "\n",
       "    .dataframe tbody tr th {\n",
       "        vertical-align: top;\n",
       "    }\n",
       "\n",
       "    .dataframe thead th {\n",
       "        text-align: right;\n",
       "    }\n",
       "</style>\n",
       "<table border=\"1\" class=\"dataframe\">\n",
       "  <thead>\n",
       "    <tr style=\"text-align: right;\">\n",
       "      <th></th>\n",
       "      <th>count</th>\n",
       "      <th>mean</th>\n",
       "      <th>std</th>\n",
       "      <th>min</th>\n",
       "      <th>25%</th>\n",
       "      <th>50%</th>\n",
       "      <th>75%</th>\n",
       "      <th>max</th>\n",
       "    </tr>\n",
       "  </thead>\n",
       "  <tbody>\n",
       "    <tr>\n",
       "      <th>beer_name_count</th>\n",
       "      <td>5155.0</td>\n",
       "      <td>9.467507</td>\n",
       "      <td>17.361097</td>\n",
       "      <td>1.0</td>\n",
       "      <td>2.000</td>\n",
       "      <td>4.000000</td>\n",
       "      <td>10.0</td>\n",
       "      <td>522.00</td>\n",
       "    </tr>\n",
       "    <tr>\n",
       "      <th>beer_abv_median</th>\n",
       "      <td>5155.0</td>\n",
       "      <td>5.651426</td>\n",
       "      <td>1.217984</td>\n",
       "      <td>0.5</td>\n",
       "      <td>4.900</td>\n",
       "      <td>5.350000</td>\n",
       "      <td>6.2</td>\n",
       "      <td>16.00</td>\n",
       "    </tr>\n",
       "    <tr>\n",
       "      <th>beer_abv_mean</th>\n",
       "      <td>5155.0</td>\n",
       "      <td>5.798452</td>\n",
       "      <td>1.253577</td>\n",
       "      <td>0.5</td>\n",
       "      <td>4.975</td>\n",
       "      <td>5.566667</td>\n",
       "      <td>6.5</td>\n",
       "      <td>24.69</td>\n",
       "    </tr>\n",
       "  </tbody>\n",
       "</table>\n",
       "</div>"
      ],
      "text/plain": [
       "                  count      mean        std  min    25%       50%   75%  \\\n",
       "beer_name_count  5155.0  9.467507  17.361097  1.0  2.000  4.000000  10.0   \n",
       "beer_abv_median  5155.0  5.651426   1.217984  0.5  4.900  5.350000   6.2   \n",
       "beer_abv_mean    5155.0  5.798452   1.253577  0.5  4.975  5.566667   6.5   \n",
       "\n",
       "                    max  \n",
       "beer_name_count  522.00  \n",
       "beer_abv_median   16.00  \n",
       "beer_abv_mean     24.69  "
      ]
     },
     "execution_count": 30,
     "metadata": {},
     "output_type": "execute_result"
    }
   ],
   "source": [
    "brewery_abv.describe().transpose()"
   ]
  },
  {
   "cell_type": "code",
   "execution_count": 31,
   "metadata": {},
   "outputs": [
    {
     "name": "stdout",
     "output_type": "stream",
     "text": [
      "Breweries with the highest average ABV:\n",
      "                         brewery_name  beer_abv_mean\n",
      "4207                     Schorschbräu      24.690000\n",
      "755   Brasserie Dubuisson Frères sprl      10.607143\n",
      "1158      Brouwerij De Dolle Brouwers      10.257143\n",
      "89           AleSmith Brewing Company      10.165769\n",
      "1731              De Struise Brouwers      10.130435\n",
      "4249          Sherbrooke Liquor Store      10.000000\n",
      "3655          Pacific Rim Brewing Co.       9.825000\n",
      "1190        Brouwerij Het Alternatief       9.750000\n",
      "1883          Element Brewing Company       9.675000\n",
      "164              Arctic Craft Brewery       9.666667\n"
     ]
    }
   ],
   "source": [
    "### Brewery with the highest mean ABV\n",
    "brewery_mean_abv = brewery_abv[brewery_abv['beer_name_count'] >= 4][['brewery_name', 'beer_abv_mean']]\\\n",
    "                .sort_values('beer_abv_mean', ascending = False)\n",
    "print('Breweries with the highest average ABV:')\n",
    "print(brewery_mean_abv.head(10))"
   ]
  },
  {
   "cell_type": "code",
   "execution_count": 32,
   "metadata": {},
   "outputs": [
    {
     "name": "stdout",
     "output_type": "stream",
     "text": [
      "Breweries with the highest median ABV:\n",
      "                                           brewery_name  beer_abv_median\n",
      "4207                                       Schorschbräu            16.00\n",
      "755                     Brasserie Dubuisson Frères sprl            11.25\n",
      "89                             AleSmith Brewing Company            11.00\n",
      "1158                        Brouwerij De Dolle Brouwers            10.50\n",
      "1731                                De Struise Brouwers            10.00\n",
      "2312  Hair of the Dog Brewing Company / Brewery and ...            10.00\n",
      "4826                      Two Rows Restaurant & Brewery             9.80\n",
      "1190                          Brouwerij Het Alternatief             9.50\n",
      "1994                             FiftyFifty Brewing Co.             9.50\n",
      "1170                                 Brouwerij De Molen             9.20\n"
     ]
    }
   ],
   "source": [
    "### Brewery with the highest median ABV\n",
    "brewery_median_abv = brewery_abv[brewery_abv['beer_name_count'] >= 4][['brewery_name', 'beer_abv_median']]\\\n",
    "                .sort_values('beer_abv_median', ascending = False)\n",
    "print('Breweries with the highest median ABV:')\n",
    "print(brewery_median_abv.head(10))"
   ]
  },
  {
   "cell_type": "code",
   "execution_count": 33,
   "metadata": {},
   "outputs": [
    {
     "data": {
      "image/png": "[encoded data removed]",
      "text/plain": [
       "<Figure size 1080x504 with 2 Axes>"
      ]
     },
     "metadata": {},
     "output_type": "display_data"
    }
   ],
   "source": [
    "x0 = brewery_median_abv.beer_abv_median.head(10).iloc[::-1]\n",
    "y0 = brewery_median_abv.brewery_name.head(10).iloc[::-1].tolist()\n",
    "y0[4] = y0[4].split('/')[0] #long name fix\n",
    "\n",
    "x1 = brewery_mean_abv.beer_abv_mean.head(10).iloc[::-1]\n",
    "y1 = brewery_mean_abv.brewery_name.head(10).iloc[::-1].tolist()\n",
    "\n",
    "fig, axes = plt.subplots(nrows=1, ncols=2, figsize = (15,7))\n",
    "\n",
    "my_range = range(1,11)\n",
    "\n",
    "## plot 1\n",
    "axes[0].hlines(y=my_range, xmin=min(x0)-1, xmax=max(x0)+1, color=my_colors(0))\n",
    "axes[0].plot(x0, my_range, 'o', color = 'g')\n",
    "\n",
    "# Titles, axis names for plot 1\n",
    "axes[0].set_yticks(my_range)\n",
    "axes[0].set_yticklabels(y0)\n",
    "axes[0].set_xlabel('Median ABV')\n",
    "\n",
    "## plot 2\n",
    "axes[1].hlines(y=my_range, xmin=min(x1)-1, xmax=max(x1)+1, color=my_colors(1))\n",
    "axes[1].plot(x1, my_range, 'o', color = 'navy')\n",
    "\n",
    "# Titles, axis names for plot 2\n",
    "axes[1].set_yticks(my_range)\n",
    "axes[1].set_yticklabels(y1)\n",
    "axes[1].set_xlabel('Mean ABV')\n",
    "\n",
    "# final plot\n",
    "fig.tight_layout()\n",
    "plt.subplots_adjust(top=0.9)\n",
    "fig.suptitle(\"Top 10 Breweries by Median and Mean ABV\")\n",
    "\n",
    "plt.show()\n",
    "\n",
    "### Schorschbrau is shown below to be consistently the strongest brewer"
   ]
  },
  {
   "cell_type": "code",
   "execution_count": 34,
   "metadata": {},
   "outputs": [
    {
     "data": {
      "text/plain": [
       "count    7848.000000\n",
       "mean      149.751019\n",
       "std       225.746173\n",
       "min        14.000000\n",
       "25%        37.000000\n",
       "50%        66.000000\n",
       "75%       157.000000\n",
       "max      2319.000000\n",
       "Name: review_overall, dtype: float64"
      ]
     },
     "execution_count": 34,
     "metadata": {},
     "output_type": "execute_result"
    }
   ],
   "source": [
    "reviews.groupby('beer_beerid', as_index = True)['review_overall']\\\n",
    "    .count().describe().transpose()"
   ]
  },
  {
   "cell_type": "code",
   "execution_count": 35,
   "metadata": {},
   "outputs": [],
   "source": [
    "m = 157"
   ]
  },
  {
   "cell_type": "code",
   "execution_count": 36,
   "metadata": {},
   "outputs": [
    {
     "data": {
      "text/plain": [
       "review_overall       1.000000\n",
       "review_aroma         0.602506\n",
       "review_appearance    0.482996\n",
       "review_palate        0.689357\n",
       "review_taste         0.777794\n",
       "Name: review_overall, dtype: float64"
      ]
     },
     "execution_count": 36,
     "metadata": {},
     "output_type": "execute_result"
    }
   ],
   "source": [
    "#pearson correlations\n",
    "review_cols = [col for col in data.columns if 'review' in col]\n",
    "review_cols = [col for col in review_cols if ('time' not in col and 'profilename' not in col)]\n",
    "\n",
    "review_overall_corr = reviews[review_cols].corr()['review_overall']\n",
    "review_overall_corr"
   ]
  },
  {
   "cell_type": "code",
   "execution_count": 37,
   "metadata": {},
   "outputs": [
    {
     "data": {
      "text/html": [
       "<div>\n",
       "<style scoped>\n",
       "    .dataframe tbody tr th:only-of-type {\n",
       "        vertical-align: middle;\n",
       "    }\n",
       "\n",
       "    .dataframe tbody tr th {\n",
       "        vertical-align: top;\n",
       "    }\n",
       "\n",
       "    .dataframe thead th {\n",
       "        text-align: right;\n",
       "    }\n",
       "</style>\n",
       "<table border=\"1\" class=\"dataframe\">\n",
       "  <thead>\n",
       "    <tr style=\"text-align: right;\">\n",
       "      <th></th>\n",
       "      <th>beer_beerid</th>\n",
       "      <th>beer_name</th>\n",
       "      <th>brewery_name</th>\n",
       "      <th>counts</th>\n",
       "      <th>review_overall</th>\n",
       "      <th>review_aroma</th>\n",
       "      <th>review_appearance</th>\n",
       "      <th>review_palate</th>\n",
       "      <th>review_taste</th>\n",
       "      <th>new_review_overall</th>\n",
       "    </tr>\n",
       "  </thead>\n",
       "  <tbody>\n",
       "    <tr>\n",
       "      <th>3819</th>\n",
       "      <td>24273</td>\n",
       "      <td>M Belgian-Style Barleywine</td>\n",
       "      <td>Midnight Sun Brewing Co.</td>\n",
       "      <td>24</td>\n",
       "      <td>4.833333</td>\n",
       "      <td>4.812500</td>\n",
       "      <td>4.479167</td>\n",
       "      <td>4.854167</td>\n",
       "      <td>4.916667</td>\n",
       "      <td>4.803937</td>\n",
       "    </tr>\n",
       "    <tr>\n",
       "      <th>7384</th>\n",
       "      <td>63649</td>\n",
       "      <td>Rare D.O.S.</td>\n",
       "      <td>Peg's Cantina &amp; Brewpub / Cycle Brewing</td>\n",
       "      <td>24</td>\n",
       "      <td>4.854167</td>\n",
       "      <td>4.770833</td>\n",
       "      <td>4.458333</td>\n",
       "      <td>4.812500</td>\n",
       "      <td>4.875000</td>\n",
       "      <td>4.782695</td>\n",
       "    </tr>\n",
       "    <tr>\n",
       "      <th>7648</th>\n",
       "      <td>68548</td>\n",
       "      <td>Armand'4 Oude Geuze Lente (Spring)</td>\n",
       "      <td>Brouwerij Drie Fonteinen</td>\n",
       "      <td>57</td>\n",
       "      <td>4.719298</td>\n",
       "      <td>4.710526</td>\n",
       "      <td>4.500000</td>\n",
       "      <td>4.657895</td>\n",
       "      <td>4.710526</td>\n",
       "      <td>4.674161</td>\n",
       "    </tr>\n",
       "    <tr>\n",
       "      <th>5715</th>\n",
       "      <td>44910</td>\n",
       "      <td>Dirty Horse</td>\n",
       "      <td>De Struise Brouwers</td>\n",
       "      <td>32</td>\n",
       "      <td>4.812500</td>\n",
       "      <td>4.609375</td>\n",
       "      <td>4.406250</td>\n",
       "      <td>4.593750</td>\n",
       "      <td>4.750000</td>\n",
       "      <td>4.666691</td>\n",
       "    </tr>\n",
       "    <tr>\n",
       "      <th>3646</th>\n",
       "      <td>21690</td>\n",
       "      <td>Pliny The Younger</td>\n",
       "      <td>Russian River Brewing Company</td>\n",
       "      <td>454</td>\n",
       "      <td>4.574890</td>\n",
       "      <td>4.707048</td>\n",
       "      <td>4.443833</td>\n",
       "      <td>4.585903</td>\n",
       "      <td>4.698238</td>\n",
       "      <td>4.608627</td>\n",
       "    </tr>\n",
       "  </tbody>\n",
       "</table>\n",
       "</div>"
      ],
      "text/plain": [
       "      beer_beerid                           beer_name  \\\n",
       "3819        24273          M Belgian-Style Barleywine   \n",
       "7384        63649                         Rare D.O.S.   \n",
       "7648        68548  Armand'4 Oude Geuze Lente (Spring)   \n",
       "5715        44910                         Dirty Horse   \n",
       "3646        21690                   Pliny The Younger   \n",
       "\n",
       "                                 brewery_name  counts  review_overall  \\\n",
       "3819                 Midnight Sun Brewing Co.      24        4.833333   \n",
       "7384  Peg's Cantina & Brewpub / Cycle Brewing      24        4.854167   \n",
       "7648                 Brouwerij Drie Fonteinen      57        4.719298   \n",
       "5715                      De Struise Brouwers      32        4.812500   \n",
       "3646            Russian River Brewing Company     454        4.574890   \n",
       "\n",
       "      review_aroma  review_appearance  review_palate  review_taste  \\\n",
       "3819      4.812500           4.479167       4.854167      4.916667   \n",
       "7384      4.770833           4.458333       4.812500      4.875000   \n",
       "7648      4.710526           4.500000       4.657895      4.710526   \n",
       "5715      4.609375           4.406250       4.593750      4.750000   \n",
       "3646      4.707048           4.443833       4.585903      4.698238   \n",
       "\n",
       "      new_review_overall  \n",
       "3819            4.803937  \n",
       "7384            4.782695  \n",
       "7648            4.674161  \n",
       "5715            4.666691  \n",
       "3646            4.608627  "
      ]
     },
     "execution_count": 37,
     "metadata": {},
     "output_type": "execute_result"
    }
   ],
   "source": [
    "# number of reviews for a beer and the mean rating\n",
    "grp = reviews.groupby(['beer_beerid', 'beer_name', 'brewery_name'])\n",
    "agg_reviews = grp.size().to_frame(name = 'counts')\n",
    "agg_reviews = (agg_reviews\n",
    "              .join(grp.agg({'review_overall': 'mean'}))\n",
    "              .join(grp.agg({'review_aroma': 'mean'}))\n",
    "              .join(grp.agg({'review_appearance': 'mean'}))\n",
    "              .join(grp.agg({'review_palate': 'mean'}))\n",
    "              .join(grp.agg({'review_taste': 'mean'}))              \n",
    "              .reset_index()\n",
    "              )\n",
    "\n",
    "# get the average for each beer\n",
    "agg_reviews['new_review_overall'] = agg_reviews\\\n",
    "              .apply(new_review_overall, args = (review_cols, review_overall_corr), axis = 1)\n",
    "\n",
    "# For analysis later\n",
    "review_cols.append('new_review_overall')\n",
    "# top beers so far\n",
    "agg_reviews.sort_values('new_review_overall', ascending = False).head(5)"
   ]
  },
  {
   "cell_type": "code",
   "execution_count": 38,
   "metadata": {},
   "outputs": [
    {
     "name": "stdout",
     "output_type": "stream",
     "text": [
      "The average rating of all beers is:  3.7\n"
     ]
    }
   ],
   "source": [
    "# Let C be the average rating of all beers\n",
    "C = agg_reviews['new_review_overall'].mean()\n",
    "mean_review = agg_reviews.mean()\n",
    "print('The average rating of all beers is: ', np.round(C, 2))\n",
    "\n",
    "# top 75%\n",
    "agg_reviews = agg_reviews[agg_reviews['counts'] > m]\n",
    "this_col = 'new_review_overall'\n",
    "agg_reviews['review_weighted'] = agg_reviews.apply(bayes_weighted_rating, args = (this_col, m, C), axis = 1)\n",
    "agg_reviews = agg_reviews.sort_values('review_weighted', ascending = False)"
   ]
  },
  {
   "cell_type": "code",
   "execution_count": 43,
   "metadata": {
    "scrolled": true
   },
   "outputs": [
    {
     "data": {
      "text/html": [
       "<div>\n",
       "<style scoped>\n",
       "    .dataframe tbody tr th:only-of-type {\n",
       "        vertical-align: middle;\n",
       "    }\n",
       "\n",
       "    .dataframe tbody tr th {\n",
       "        vertical-align: top;\n",
       "    }\n",
       "\n",
       "    .dataframe thead th {\n",
       "        text-align: right;\n",
       "    }\n",
       "</style>\n",
       "<table border=\"1\" class=\"dataframe\">\n",
       "  <thead>\n",
       "    <tr style=\"text-align: right;\">\n",
       "      <th></th>\n",
       "      <th>beer_beerid</th>\n",
       "      <th>beer_name</th>\n",
       "      <th>brewery_name</th>\n",
       "      <th>counts</th>\n",
       "      <th>review_overall</th>\n",
       "      <th>review_aroma</th>\n",
       "      <th>review_appearance</th>\n",
       "      <th>review_palate</th>\n",
       "      <th>review_taste</th>\n",
       "      <th>new_review_overall</th>\n",
       "      <th>review_weighted</th>\n",
       "    </tr>\n",
       "  </thead>\n",
       "  <tbody>\n",
       "    <tr>\n",
       "      <th>835</th>\n",
       "      <td>1545</td>\n",
       "      <td>Trappist Westvleteren 12</td>\n",
       "      <td>Brouwerij Westvleteren (Sint-Sixtusabdij van W...</td>\n",
       "      <td>1026</td>\n",
       "      <td>4.593080</td>\n",
       "      <td>4.567251</td>\n",
       "      <td>4.420565</td>\n",
       "      <td>4.613548</td>\n",
       "      <td>4.700292</td>\n",
       "      <td>4.592690</td>\n",
       "      <td>4.474132</td>\n",
       "    </tr>\n",
       "    <tr>\n",
       "      <th>2519</th>\n",
       "      <td>7971</td>\n",
       "      <td>Pliny The Elder</td>\n",
       "      <td>Russian River Brewing Company</td>\n",
       "      <td>1669</td>\n",
       "      <td>4.573996</td>\n",
       "      <td>4.596465</td>\n",
       "      <td>4.366687</td>\n",
       "      <td>4.427801</td>\n",
       "      <td>4.608149</td>\n",
       "      <td>4.528732</td>\n",
       "      <td>4.457421</td>\n",
       "    </tr>\n",
       "    <tr>\n",
       "      <th>3469</th>\n",
       "      <td>19960</td>\n",
       "      <td>Founders KBS (Kentucky Breakfast Stout)</td>\n",
       "      <td>Founders Brewing Company</td>\n",
       "      <td>1419</td>\n",
       "      <td>4.384778</td>\n",
       "      <td>4.559901</td>\n",
       "      <td>4.341790</td>\n",
       "      <td>4.480268</td>\n",
       "      <td>4.619098</td>\n",
       "      <td>4.478463</td>\n",
       "      <td>4.400848</td>\n",
       "    </tr>\n",
       "  </tbody>\n",
       "</table>\n",
       "</div>"
      ],
      "text/plain": [
       "      beer_beerid                                beer_name  \\\n",
       "835          1545                 Trappist Westvleteren 12   \n",
       "2519         7971                          Pliny The Elder   \n",
       "3469        19960  Founders KBS (Kentucky Breakfast Stout)   \n",
       "\n",
       "                                           brewery_name  counts  \\\n",
       "835   Brouwerij Westvleteren (Sint-Sixtusabdij van W...    1026   \n",
       "2519                      Russian River Brewing Company    1669   \n",
       "3469                           Founders Brewing Company    1419   \n",
       "\n",
       "      review_overall  review_aroma  review_appearance  review_palate  \\\n",
       "835         4.593080      4.567251           4.420565       4.613548   \n",
       "2519        4.573996      4.596465           4.366687       4.427801   \n",
       "3469        4.384778      4.559901           4.341790       4.480268   \n",
       "\n",
       "      review_taste  new_review_overall  review_weighted  \n",
       "835       4.700292            4.592690         4.474132  \n",
       "2519      4.608149            4.528732         4.457421  \n",
       "3469      4.619098            4.478463         4.400848  "
      ]
     },
     "execution_count": 43,
     "metadata": {},
     "output_type": "execute_result"
    }
   ],
   "source": [
    "agg_reviews.head(3)"
   ]
  },
  {
   "cell_type": "code",
   "execution_count": 44,
   "metadata": {},
   "outputs": [],
   "source": [
    "# Plot how these beers compare to the average\n",
    "mean_review['review_weighted'] = mean_review['new_review_overall']\n",
    "\n",
    "top_beers = agg_reviews.head(3)\n",
    "top_beers = top_beers.append(mean_review, ignore_index = True)"
   ]
  },
  {
   "cell_type": "code",
   "execution_count": 45,
   "metadata": {},
   "outputs": [
    {
     "data": {
      "text/plain": [
       "<matplotlib.legend.Legend at 0x7c85dd4340>"
      ]
     },
     "execution_count": 45,
     "metadata": {},
     "output_type": "execute_result"
    },
    {
     "data": {
      "image/png": "[encoded data removed]",
      "text/plain": [
       "<Figure size 350x490 with 1 Axes>"
      ]
     },
     "metadata": {},
     "output_type": "display_data"
    }
   ],
   "source": [
    "### Create the background\n",
    "\n",
    "# number of variables\n",
    "N = len(review_cols)\n",
    "\n",
    "# angle of each axis\n",
    "angles = [n/float(N) * 2 * pi for n in range(N)]\n",
    "angles += angles[:1]\n",
    "\n",
    "# initialise the radar graph\n",
    "plt.figure(figsize=(5,7), dpi= 70, facecolor='w', edgecolor='k')\n",
    "ax = plt.subplot(111, polar=True)\n",
    "\n",
    "# set the first axis to be on top:\n",
    "ax.set_theta_offset(pi / 2)\n",
    "ax.set_theta_direction(-1)\n",
    "\n",
    "# draw one axe per variable + add labels labels yet\n",
    "plt.xticks(angles[:-1], review_cols)\n",
    "\n",
    "# draw ylabels\n",
    "ax.set_rlabel_position(0)\n",
    "plt.yticks([3, 3.5,4, 4.5], [\"3\", \"\", \"4\", \"\"], color=\"grey\", size=7)\n",
    "plt.ylim(2.5,5)\n",
    "\n",
    "## --- add plots\n",
    "\n",
    "## Mean Beer\n",
    "\n",
    "values=top_beers.loc[3][review_cols].values.flatten().tolist()\n",
    "values += values[:1]\n",
    "ax.plot(angles, values, color = my_colors(1), linewidth=1, linestyle='solid', label=\"\\\"Mean\\\" Beer\")\n",
    "ax.fill(angles, values, color = my_colors(1), alpha=0.1)\n",
    "\n",
    "## Top Beer\n",
    "\n",
    "# change this number to whichever top beer (1:3) you want to graph \n",
    "rank = 3\n",
    "\n",
    "rank -= 1\n",
    "values=top_beers.loc[rank][review_cols].values.flatten().tolist()\n",
    "values += values[:1]\n",
    "title = top_beers.loc[rank]['beer_name']\n",
    "ax.plot(angles, values, color = my_colors(0), linewidth=1, linestyle='solid', label=title)\n",
    "ax.fill(angles, values, color = my_colors(0), alpha=0.1)\n",
    "\n",
    "## Add legend\n",
    "plt.legend(loc='upper right', bbox_to_anchor=(0.1, 0.1))"
   ]
  },
  {
   "cell_type": "code",
   "execution_count": 46,
   "metadata": {},
   "outputs": [],
   "source": [
    "review_cols = review_cols[:-1]\n",
    "#remove the \"new_review_overall\", cleanup for next section"
   ]
  },
  {
   "cell_type": "code",
   "execution_count": 47,
   "metadata": {},
   "outputs": [],
   "source": [
    "review_cats = reviews[review_cols]\n",
    "review_cats.columns = review_cats.columns.to_series().str.lstrip('review_').apply(lambda x: x.capitalize())"
   ]
  },
  {
   "cell_type": "code",
   "execution_count": 50,
   "metadata": {},
   "outputs": [
    {
     "data": {
      "text/plain": [
       "Text(0.5, 1.0, 'Pearson Correlation of Beer Review Categories')"
      ]
     },
     "execution_count": 50,
     "metadata": {},
     "output_type": "execute_result"
    },
    {
     "data": {
      "image/png": "[encoded data removed]",
      "text/plain": [
       "<Figure size 432x288 with 2 Axes>"
      ]
     },
     "metadata": {},
     "output_type": "display_data"
    }
   ],
   "source": [
    "pearson_corr = review_cats.corr() # pearson is the default\n",
    "sns.heatmap(pearson_corr, vmin = 0, vmax = 1, center = 0.5, cmap='Reds')\n",
    "plt.title('Pearson Correlation of Beer Review Categories')"
   ]
  },
  {
   "cell_type": "code",
   "execution_count": 51,
   "metadata": {},
   "outputs": [
    {
     "data": {
      "text/plain": [
       "Text(0.5, 1.0, 'Pearson Correlation of Beer Review Categories')"
      ]
     },
     "execution_count": 51,
     "metadata": {},
     "output_type": "execute_result"
    },
    {
     "data": {
      "image/png": "[encoded data removed]",
      "text/plain": [
       "<Figure size 432x288 with 2 Axes>"
      ]
     },
     "metadata": {},
     "output_type": "display_data"
    }
   ],
   "source": [
    "kendall_corr = review_cats.corr(method = 'kendall')\n",
    "sns.heatmap(kendall_corr, vmin = 0, vmax = 1, center = 0.5, cmap='Reds')\n",
    "plt.title('Pearson Correlation of Beer Review Categories')"
   ]
  },
  {
   "cell_type": "code",
   "execution_count": 52,
   "metadata": {},
   "outputs": [
    {
     "data": {
      "text/plain": [
       "Text(0.5, 1.0, 'Pearson Correlation of Beer Review Categories')"
      ]
     },
     "execution_count": 52,
     "metadata": {},
     "output_type": "execute_result"
    },
    {
     "data": {
      "image/png": "[encoded data removed]",
      "text/plain": [
       "<Figure size 432x288 with 2 Axes>"
      ]
     },
     "metadata": {},
     "output_type": "display_data"
    }
   ],
   "source": [
    "spearman_corr = review_cats.corr(method = 'spearman')\n",
    "sns.heatmap(spearman_corr, vmin = 0, vmax = 1, center = 0.5, cmap='Reds')\n",
    "plt.title('Pearson Correlation of Beer Review Categories')"
   ]
  },
  {
   "cell_type": "code",
   "execution_count": 53,
   "metadata": {},
   "outputs": [
    {
     "data": {
      "text/html": [
       "<div>\n",
       "<style scoped>\n",
       "    .dataframe tbody tr th:only-of-type {\n",
       "        vertical-align: middle;\n",
       "    }\n",
       "\n",
       "    .dataframe tbody tr th {\n",
       "        vertical-align: top;\n",
       "    }\n",
       "\n",
       "    .dataframe thead th {\n",
       "        text-align: right;\n",
       "    }\n",
       "</style>\n",
       "<table border=\"1\" class=\"dataframe\">\n",
       "  <thead>\n",
       "    <tr style=\"text-align: right;\">\n",
       "      <th></th>\n",
       "      <th>Spearman</th>\n",
       "      <th>Kendall</th>\n",
       "      <th>Pearson</th>\n",
       "    </tr>\n",
       "  </thead>\n",
       "  <tbody>\n",
       "    <tr>\n",
       "      <th>Overall</th>\n",
       "      <td>1.000000</td>\n",
       "      <td>1.000000</td>\n",
       "      <td>1.000000</td>\n",
       "    </tr>\n",
       "    <tr>\n",
       "      <th>Aroma</th>\n",
       "      <td>0.543660</td>\n",
       "      <td>0.466756</td>\n",
       "      <td>0.602506</td>\n",
       "    </tr>\n",
       "    <tr>\n",
       "      <th>Appearance</th>\n",
       "      <td>0.433946</td>\n",
       "      <td>0.370062</td>\n",
       "      <td>0.482996</td>\n",
       "    </tr>\n",
       "    <tr>\n",
       "      <th>Palate</th>\n",
       "      <td>0.640561</td>\n",
       "      <td>0.560050</td>\n",
       "      <td>0.689357</td>\n",
       "    </tr>\n",
       "    <tr>\n",
       "      <th>Taste</th>\n",
       "      <td>0.717016</td>\n",
       "      <td>0.637798</td>\n",
       "      <td>0.777794</td>\n",
       "    </tr>\n",
       "  </tbody>\n",
       "</table>\n",
       "</div>"
      ],
      "text/plain": [
       "            Spearman   Kendall   Pearson\n",
       "Overall     1.000000  1.000000  1.000000\n",
       "Aroma       0.543660  0.466756  0.602506\n",
       "Appearance  0.433946  0.370062  0.482996\n",
       "Palate      0.640561  0.560050  0.689357\n",
       "Taste       0.717016  0.637798  0.777794"
      ]
     },
     "execution_count": 53,
     "metadata": {},
     "output_type": "execute_result"
    }
   ],
   "source": [
    "pd.concat([spearman_corr['Overall'].rename('Spearman'), \n",
    "           kendall_corr['Overall'].rename('Kendall'), \n",
    "           pearson_corr['Overall'].rename('Pearson')], axis = 1)"
   ]
  },
  {
   "cell_type": "code",
   "execution_count": 55,
   "metadata": {},
   "outputs": [],
   "source": [
    "agg_style = grp.size().to_frame(name='counts')"
   ]
  },
  {
   "cell_type": "code",
   "execution_count": 56,
   "metadata": {},
   "outputs": [
    {
     "data": {
      "text/plain": [
       "count      104.000000\n",
       "mean     11300.442308\n",
       "std      13528.561917\n",
       "min         63.000000\n",
       "25%       2925.250000\n",
       "50%       7344.500000\n",
       "75%      14982.500000\n",
       "max      87940.000000\n",
       "Name: review_overall, dtype: float64"
      ]
     },
     "execution_count": 56,
     "metadata": {},
     "output_type": "execute_result"
    }
   ],
   "source": [
    "reviews.groupby('beer_style', as_index = True)['review_overall']\\\n",
    "  .count().describe().transpose()"
   ]
  },
  {
   "cell_type": "code",
   "execution_count": 57,
   "metadata": {},
   "outputs": [],
   "source": [
    "m = 7344"
   ]
  },
  {
   "cell_type": "code",
   "execution_count": 58,
   "metadata": {},
   "outputs": [],
   "source": [
    "### Aggregate the data with counts and mean aroma/appearance for popular beer styles\n",
    "grp = reviews.groupby('beer_style') \n",
    "agg_style = grp.size().to_frame(name='counts')\n",
    "agg_style = (agg_style\n",
    "                .join(grp.agg({'review_overall': 'mean'}))\n",
    "                .join(grp.agg({'review_aroma': 'mean'}))\n",
    "                .join(grp.agg({'review_appearance': 'mean'}))\n",
    "                .join(grp.agg({'review_palate': 'mean'}))\n",
    "                .join(grp.agg({'review_taste': 'mean'}))\n",
    "                .reset_index()\n",
    "              )\n",
    "\n",
    "agg_style['aroma_appearance_mean'] = (agg_style.review_aroma + agg_style.review_appearance)/2"
   ]
  },
  {
   "cell_type": "code",
   "execution_count": 59,
   "metadata": {},
   "outputs": [
    {
     "name": "stdout",
     "output_type": "stream",
     "text": [
      "The average combined aroma/appearance rating of all beer styles is:  3.7\n"
     ]
    }
   ],
   "source": [
    "# C should be the average rating of ALL beers, not only the top 50%\n",
    "C = agg_style['aroma_appearance_mean'].mean()\n",
    "mean_review = agg_style.mean()\n",
    "print('The average combined aroma/appearance rating of all beer styles is: ', np.round(C, 2))\n",
    "\n",
    "# now we want only the top 50% by number of ratings\n",
    "agg_style = agg_style[agg_style['counts'] > m]\n",
    "this_col = 'aroma_appearance_mean'\n",
    "agg_style['aro_app_weighted'] = agg_style.apply(bayes_weighted_rating, args = (this_col, m, C), axis=1)\n",
    "agg_style = agg_style.sort_values('aro_app_weighted', ascending = False)"
   ]
  },
  {
   "cell_type": "code",
   "execution_count": 60,
   "metadata": {},
   "outputs": [
    {
     "data": {
      "text/html": [
       "<div>\n",
       "<style scoped>\n",
       "    .dataframe tbody tr th:only-of-type {\n",
       "        vertical-align: middle;\n",
       "    }\n",
       "\n",
       "    .dataframe tbody tr th {\n",
       "        vertical-align: top;\n",
       "    }\n",
       "\n",
       "    .dataframe thead th {\n",
       "        text-align: right;\n",
       "    }\n",
       "</style>\n",
       "<table border=\"1\" class=\"dataframe\">\n",
       "  <thead>\n",
       "    <tr style=\"text-align: right;\">\n",
       "      <th></th>\n",
       "      <th>beer_style</th>\n",
       "      <th>counts</th>\n",
       "      <th>review_overall</th>\n",
       "      <th>review_aroma</th>\n",
       "      <th>review_appearance</th>\n",
       "      <th>review_palate</th>\n",
       "      <th>review_taste</th>\n",
       "      <th>aroma_appearance_mean</th>\n",
       "      <th>aro_app_weighted</th>\n",
       "    </tr>\n",
       "  </thead>\n",
       "  <tbody>\n",
       "    <tr>\n",
       "      <th>11</th>\n",
       "      <td>American Double / Imperial Stout</td>\n",
       "      <td>40456</td>\n",
       "      <td>4.019070</td>\n",
       "      <td>4.152029</td>\n",
       "      <td>4.150040</td>\n",
       "      <td>4.093546</td>\n",
       "      <td>4.178577</td>\n",
       "      <td>4.151034</td>\n",
       "      <td>4.081411</td>\n",
       "    </tr>\n",
       "    <tr>\n",
       "      <th>89</th>\n",
       "      <td>Russian Imperial Stout</td>\n",
       "      <td>43173</td>\n",
       "      <td>4.014975</td>\n",
       "      <td>4.072059</td>\n",
       "      <td>4.199465</td>\n",
       "      <td>4.082030</td>\n",
       "      <td>4.138941</td>\n",
       "      <td>4.135762</td>\n",
       "      <td>4.072104</td>\n",
       "    </tr>\n",
       "    <tr>\n",
       "      <th>86</th>\n",
       "      <td>Quadrupel (Quad)</td>\n",
       "      <td>14865</td>\n",
       "      <td>4.057888</td>\n",
       "      <td>4.122032</td>\n",
       "      <td>4.106559</td>\n",
       "      <td>4.114497</td>\n",
       "      <td>4.196939</td>\n",
       "      <td>4.114295</td>\n",
       "      <td>3.976596</td>\n",
       "    </tr>\n",
       "    <tr>\n",
       "      <th>9</th>\n",
       "      <td>American Double / Imperial IPA</td>\n",
       "      <td>66973</td>\n",
       "      <td>3.986300</td>\n",
       "      <td>4.089700</td>\n",
       "      <td>4.075448</td>\n",
       "      <td>4.018336</td>\n",
       "      <td>4.077554</td>\n",
       "      <td>4.082574</td>\n",
       "      <td>4.044559</td>\n",
       "    </tr>\n",
       "    <tr>\n",
       "      <th>20</th>\n",
       "      <td>American Wild Ale</td>\n",
       "      <td>13626</td>\n",
       "      <td>4.105423</td>\n",
       "      <td>4.142889</td>\n",
       "      <td>4.015375</td>\n",
       "      <td>4.056950</td>\n",
       "      <td>4.160906</td>\n",
       "      <td>4.079132</td>\n",
       "      <td>3.945611</td>\n",
       "    </tr>\n",
       "    <tr>\n",
       "      <th>100</th>\n",
       "      <td>Weizenbock</td>\n",
       "      <td>7509</td>\n",
       "      <td>4.014982</td>\n",
       "      <td>4.060594</td>\n",
       "      <td>4.020842</td>\n",
       "      <td>3.997403</td>\n",
       "      <td>4.083833</td>\n",
       "      <td>4.040718</td>\n",
       "      <td>3.871202</td>\n",
       "    </tr>\n",
       "    <tr>\n",
       "      <th>4</th>\n",
       "      <td>American Barleywine</td>\n",
       "      <td>21332</td>\n",
       "      <td>3.896540</td>\n",
       "      <td>4.023673</td>\n",
       "      <td>4.044604</td>\n",
       "      <td>4.004242</td>\n",
       "      <td>4.045729</td>\n",
       "      <td>4.034139</td>\n",
       "      <td>3.948022</td>\n",
       "    </tr>\n",
       "    <tr>\n",
       "      <th>23</th>\n",
       "      <td>Belgian IPA</td>\n",
       "      <td>10036</td>\n",
       "      <td>3.955012</td>\n",
       "      <td>3.979574</td>\n",
       "      <td>4.086489</td>\n",
       "      <td>3.947539</td>\n",
       "      <td>4.000648</td>\n",
       "      <td>4.033031</td>\n",
       "      <td>3.891411</td>\n",
       "    </tr>\n",
       "    <tr>\n",
       "      <th>5</th>\n",
       "      <td>American Black Ale</td>\n",
       "      <td>8286</td>\n",
       "      <td>3.918537</td>\n",
       "      <td>3.923787</td>\n",
       "      <td>4.121711</td>\n",
       "      <td>3.903512</td>\n",
       "      <td>3.958364</td>\n",
       "      <td>4.022749</td>\n",
       "      <td>3.870104</td>\n",
       "    </tr>\n",
       "    <tr>\n",
       "      <th>19</th>\n",
       "      <td>American Strong Ale</td>\n",
       "      <td>25254</td>\n",
       "      <td>3.875980</td>\n",
       "      <td>3.987467</td>\n",
       "      <td>4.033005</td>\n",
       "      <td>3.964362</td>\n",
       "      <td>4.036212</td>\n",
       "      <td>4.010236</td>\n",
       "      <td>3.939865</td>\n",
       "    </tr>\n",
       "  </tbody>\n",
       "</table>\n",
       "</div>"
      ],
      "text/plain": [
       "                           beer_style  counts  review_overall  review_aroma  \\\n",
       "11   American Double / Imperial Stout   40456        4.019070      4.152029   \n",
       "89             Russian Imperial Stout   43173        4.014975      4.072059   \n",
       "86                   Quadrupel (Quad)   14865        4.057888      4.122032   \n",
       "9      American Double / Imperial IPA   66973        3.986300      4.089700   \n",
       "20                  American Wild Ale   13626        4.105423      4.142889   \n",
       "100                        Weizenbock    7509        4.014982      4.060594   \n",
       "4                 American Barleywine   21332        3.896540      4.023673   \n",
       "23                        Belgian IPA   10036        3.955012      3.979574   \n",
       "5                  American Black Ale    8286        3.918537      3.923787   \n",
       "19                American Strong Ale   25254        3.875980      3.987467   \n",
       "\n",
       "     review_appearance  review_palate  review_taste  aroma_appearance_mean  \\\n",
       "11            4.150040       4.093546      4.178577               4.151034   \n",
       "89            4.199465       4.082030      4.138941               4.135762   \n",
       "86            4.106559       4.114497      4.196939               4.114295   \n",
       "9             4.075448       4.018336      4.077554               4.082574   \n",
       "20            4.015375       4.056950      4.160906               4.079132   \n",
       "100           4.020842       3.997403      4.083833               4.040718   \n",
       "4             4.044604       4.004242      4.045729               4.034139   \n",
       "23            4.086489       3.947539      4.000648               4.033031   \n",
       "5             4.121711       3.903512      3.958364               4.022749   \n",
       "19            4.033005       3.964362      4.036212               4.010236   \n",
       "\n",
       "     aro_app_weighted  \n",
       "11           4.081411  \n",
       "89           4.072104  \n",
       "86           3.976596  \n",
       "9            4.044559  \n",
       "20           3.945611  \n",
       "100          3.871202  \n",
       "4            3.948022  \n",
       "23           3.891411  \n",
       "5            3.870104  \n",
       "19           3.939865  "
      ]
     },
     "execution_count": 60,
     "metadata": {},
     "output_type": "execute_result"
    }
   ],
   "source": [
    "agg_style_sorted = agg_style.sort_values('aroma_appearance_mean', ascending = False)\n",
    "agg_style_sorted.head(10)"
   ]
  },
  {
   "cell_type": "code",
   "execution_count": 61,
   "metadata": {},
   "outputs": [
    {
     "data": {
      "image/png": "[encoded data removed]",
      "text/plain": [
       "<Figure size 1000x700 with 1 Axes>"
      ]
     },
     "metadata": {},
     "output_type": "display_data"
    }
   ],
   "source": [
    "### lolipop plot\n",
    "\n",
    "# our data to plot\n",
    "x0 = np.array(agg_style_sorted.review_aroma.head(10).iloc[::-1])\n",
    "x1 = np.array(agg_style_sorted.review_appearance.head(10).iloc[::-1])\n",
    "x2 = np.array(agg_style_sorted.aroma_appearance_mean.head(10).iloc[::-1])\n",
    "y = agg_style_sorted.beer_style.head(10).iloc[::-1]\n",
    "\n",
    "# since top 10\n",
    "my_range = range(1,11)\n",
    "\n",
    "# --- plot\n",
    "x_min = np.minimum(x0, x1)\n",
    "x_max = np.maximum(x0, x1)\n",
    "\n",
    "plt.figure(figsize=(10,7), dpi= 100, facecolor='w', edgecolor='k')\n",
    "\n",
    "plt.hlines(y=my_range, xmin=x_min, xmax=x_max, color='grey', alpha=0.4)\n",
    "plt.scatter(x0, my_range, color= my_colors(0), label='Aroma')\n",
    "plt.scatter(x1, my_range, color= my_colors(1), label='Appearance')\n",
    "plt.scatter(x2, my_range, color= 'grey', alpha=0.6, marker='*', label='Average')\n",
    "plt.legend(loc=2)\n",
    "\n",
    "# --- title/axis\n",
    "plt.yticks(my_range, y)\n",
    "plt.title(\"Top Beer Styles Based on Aroma and Appearance Rating\")\n",
    "plt.xlabel('Aroma/Appearance Rating Difference')\n",
    "plt.ylabel('Beer Style')\n",
    "\n",
    "\n",
    "plt.show()"
   ]
  },
  {
   "cell_type": "code",
   "execution_count": 62,
   "metadata": {},
   "outputs": [
    {
     "data": {
      "text/html": [
       "<div>\n",
       "<style scoped>\n",
       "    .dataframe tbody tr th:only-of-type {\n",
       "        vertical-align: middle;\n",
       "    }\n",
       "\n",
       "    .dataframe tbody tr th {\n",
       "        vertical-align: top;\n",
       "    }\n",
       "\n",
       "    .dataframe thead th {\n",
       "        text-align: right;\n",
       "    }\n",
       "</style>\n",
       "<table border=\"1\" class=\"dataframe\">\n",
       "  <thead>\n",
       "    <tr style=\"text-align: right;\">\n",
       "      <th></th>\n",
       "      <th>beer_style</th>\n",
       "      <th>counts</th>\n",
       "      <th>review_overall</th>\n",
       "      <th>review_aroma</th>\n",
       "      <th>review_appearance</th>\n",
       "      <th>review_palate</th>\n",
       "      <th>review_taste</th>\n",
       "      <th>aroma_appearance_mean</th>\n",
       "      <th>aro_app_weighted</th>\n",
       "    </tr>\n",
       "  </thead>\n",
       "  <tbody>\n",
       "    <tr>\n",
       "      <th>11</th>\n",
       "      <td>American Double / Imperial Stout</td>\n",
       "      <td>40456</td>\n",
       "      <td>4.019070</td>\n",
       "      <td>4.152029</td>\n",
       "      <td>4.150040</td>\n",
       "      <td>4.093546</td>\n",
       "      <td>4.178577</td>\n",
       "      <td>4.151034</td>\n",
       "      <td>4.081411</td>\n",
       "    </tr>\n",
       "    <tr>\n",
       "      <th>89</th>\n",
       "      <td>Russian Imperial Stout</td>\n",
       "      <td>43173</td>\n",
       "      <td>4.014975</td>\n",
       "      <td>4.072059</td>\n",
       "      <td>4.199465</td>\n",
       "      <td>4.082030</td>\n",
       "      <td>4.138941</td>\n",
       "      <td>4.135762</td>\n",
       "      <td>4.072104</td>\n",
       "    </tr>\n",
       "    <tr>\n",
       "      <th>9</th>\n",
       "      <td>American Double / Imperial IPA</td>\n",
       "      <td>66973</td>\n",
       "      <td>3.986300</td>\n",
       "      <td>4.089700</td>\n",
       "      <td>4.075448</td>\n",
       "      <td>4.018336</td>\n",
       "      <td>4.077554</td>\n",
       "      <td>4.082574</td>\n",
       "      <td>4.044559</td>\n",
       "    </tr>\n",
       "    <tr>\n",
       "      <th>86</th>\n",
       "      <td>Quadrupel (Quad)</td>\n",
       "      <td>14865</td>\n",
       "      <td>4.057888</td>\n",
       "      <td>4.122032</td>\n",
       "      <td>4.106559</td>\n",
       "      <td>4.114497</td>\n",
       "      <td>4.196939</td>\n",
       "      <td>4.114295</td>\n",
       "      <td>3.976596</td>\n",
       "    </tr>\n",
       "    <tr>\n",
       "      <th>4</th>\n",
       "      <td>American Barleywine</td>\n",
       "      <td>21332</td>\n",
       "      <td>3.896540</td>\n",
       "      <td>4.023673</td>\n",
       "      <td>4.044604</td>\n",
       "      <td>4.004242</td>\n",
       "      <td>4.045729</td>\n",
       "      <td>4.034139</td>\n",
       "      <td>3.948022</td>\n",
       "    </tr>\n",
       "    <tr>\n",
       "      <th>20</th>\n",
       "      <td>American Wild Ale</td>\n",
       "      <td>13626</td>\n",
       "      <td>4.105423</td>\n",
       "      <td>4.142889</td>\n",
       "      <td>4.015375</td>\n",
       "      <td>4.056950</td>\n",
       "      <td>4.160906</td>\n",
       "      <td>4.079132</td>\n",
       "      <td>3.945611</td>\n",
       "    </tr>\n",
       "    <tr>\n",
       "      <th>19</th>\n",
       "      <td>American Strong Ale</td>\n",
       "      <td>25254</td>\n",
       "      <td>3.875980</td>\n",
       "      <td>3.987467</td>\n",
       "      <td>4.033005</td>\n",
       "      <td>3.964362</td>\n",
       "      <td>4.036212</td>\n",
       "      <td>4.010236</td>\n",
       "      <td>3.939865</td>\n",
       "    </tr>\n",
       "    <tr>\n",
       "      <th>25</th>\n",
       "      <td>Belgian Strong Dark Ale</td>\n",
       "      <td>30628</td>\n",
       "      <td>3.917837</td>\n",
       "      <td>3.981145</td>\n",
       "      <td>4.009387</td>\n",
       "      <td>3.946062</td>\n",
       "      <td>4.033940</td>\n",
       "      <td>3.995266</td>\n",
       "      <td>3.937749</td>\n",
       "    </tr>\n",
       "    <tr>\n",
       "      <th>12</th>\n",
       "      <td>American IPA</td>\n",
       "      <td>87940</td>\n",
       "      <td>3.967586</td>\n",
       "      <td>3.896452</td>\n",
       "      <td>3.978576</td>\n",
       "      <td>3.870571</td>\n",
       "      <td>3.918314</td>\n",
       "      <td>3.937514</td>\n",
       "      <td>3.919044</td>\n",
       "    </tr>\n",
       "    <tr>\n",
       "      <th>92</th>\n",
       "      <td>Saison / Farmhouse Ale</td>\n",
       "      <td>24247</td>\n",
       "      <td>3.967047</td>\n",
       "      <td>3.943807</td>\n",
       "      <td>4.018250</td>\n",
       "      <td>3.903844</td>\n",
       "      <td>3.938405</td>\n",
       "      <td>3.981029</td>\n",
       "      <td>3.915204</td>\n",
       "    </tr>\n",
       "  </tbody>\n",
       "</table>\n",
       "</div>"
      ],
      "text/plain": [
       "                          beer_style  counts  review_overall  review_aroma  \\\n",
       "11  American Double / Imperial Stout   40456        4.019070      4.152029   \n",
       "89            Russian Imperial Stout   43173        4.014975      4.072059   \n",
       "9     American Double / Imperial IPA   66973        3.986300      4.089700   \n",
       "86                  Quadrupel (Quad)   14865        4.057888      4.122032   \n",
       "4                American Barleywine   21332        3.896540      4.023673   \n",
       "20                 American Wild Ale   13626        4.105423      4.142889   \n",
       "19               American Strong Ale   25254        3.875980      3.987467   \n",
       "25           Belgian Strong Dark Ale   30628        3.917837      3.981145   \n",
       "12                      American IPA   87940        3.967586      3.896452   \n",
       "92            Saison / Farmhouse Ale   24247        3.967047      3.943807   \n",
       "\n",
       "    review_appearance  review_palate  review_taste  aroma_appearance_mean  \\\n",
       "11           4.150040       4.093546      4.178577               4.151034   \n",
       "89           4.199465       4.082030      4.138941               4.135762   \n",
       "9            4.075448       4.018336      4.077554               4.082574   \n",
       "86           4.106559       4.114497      4.196939               4.114295   \n",
       "4            4.044604       4.004242      4.045729               4.034139   \n",
       "20           4.015375       4.056950      4.160906               4.079132   \n",
       "19           4.033005       3.964362      4.036212               4.010236   \n",
       "25           4.009387       3.946062      4.033940               3.995266   \n",
       "12           3.978576       3.870571      3.918314               3.937514   \n",
       "92           4.018250       3.903844      3.938405               3.981029   \n",
       "\n",
       "    aro_app_weighted  \n",
       "11          4.081411  \n",
       "89          4.072104  \n",
       "9           4.044559  \n",
       "86          3.976596  \n",
       "4           3.948022  \n",
       "20          3.945611  \n",
       "19          3.939865  \n",
       "25          3.937749  \n",
       "12          3.919044  \n",
       "92          3.915204  "
      ]
     },
     "execution_count": 62,
     "metadata": {},
     "output_type": "execute_result"
    }
   ],
   "source": [
    "agg_style_sorted = agg_style.sort_values('aro_app_weighted', ascending = False)\n",
    "agg_style_sorted.head(10)"
   ]
  },
  {
   "cell_type": "code",
   "execution_count": 63,
   "metadata": {},
   "outputs": [
    {
     "data": {
      "image/png": "[encoded data removed]",
      "text/plain": [
       "<Figure size 1000x700 with 1 Axes>"
      ]
     },
     "metadata": {},
     "output_type": "display_data"
    }
   ],
   "source": [
    "### lolipop plot\n",
    "\n",
    "# our data to plot\n",
    "x0 = np.array(agg_style_sorted.review_aroma.head(10).iloc[::-1])\n",
    "x1 = np.array(agg_style_sorted.review_appearance.head(10).iloc[::-1])\n",
    "x2 = np.array(agg_style_sorted.aro_app_weighted.head(10).iloc[::-1])\n",
    "y = agg_style_sorted.beer_style.head(10).iloc[::-1]\n",
    "\n",
    "# since top 10\n",
    "my_range = range(1,11)\n",
    "\n",
    "# --- plot\n",
    "x_min = np.minimum(x0, x1)\n",
    "x_max = np.maximum(x0, x1)\n",
    "\n",
    "plt.figure(figsize=(10,7), dpi= 100, facecolor='w', edgecolor='k')\n",
    "\n",
    "plt.hlines(y=my_range, xmin=x_min, xmax=x_max, color='grey', alpha=0.4)\n",
    "plt.scatter(x0, my_range, color= my_colors(0), label='Aroma')\n",
    "plt.scatter(x1, my_range, color= my_colors(1), label='Appearance')\n",
    "plt.scatter(x2, my_range, color= 'grey', alpha=0.6, marker='*', label='Weighted Rating')\n",
    "plt.legend(loc=2)\n",
    "\n",
    "# --- title/axis\n",
    "plt.yticks(my_range, y)\n",
    "plt.title(\"Top Beer Styles Based on Weighted Aroma and Appearance Rating\")\n",
    "plt.xlabel('Aroma/Appearance Rating')\n",
    "plt.ylabel('Beer Style')\n",
    "\n",
    "\n",
    "plt.show()"
   ]
  }
 ],
 "metadata": {
  "kernelspec": {
   "display_name": "Python 3",
   "language": "python",
   "name": "python3"
  },
  "language_info": {
   "codemirror_mode": {
    "name": "ipython",
    "version": 3
   },
   "file_extension": ".py",
   "mimetype": "text/x-python",
   "name": "python",
   "nbconvert_exporter": "python",
   "pygments_lexer": "ipython3",
   "version": "3.8.3"
  }
 },
 "nbformat": 4,
 "nbformat_minor": 4
}
